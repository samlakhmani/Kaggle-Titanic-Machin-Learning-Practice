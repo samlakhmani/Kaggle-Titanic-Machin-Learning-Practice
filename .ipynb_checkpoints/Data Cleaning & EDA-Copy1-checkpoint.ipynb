{
 "cells": [
  {
   "cell_type": "markdown",
   "metadata": {},
   "source": [
    "__Question I need answers for ->__ \n",
    "\n",
    "Q: Difference between sklearn.OHE and pandas.get_dummies ?\n",
    "\n",
    "A: They are the same \n",
    "\n",
    "Q: Why does ticket prefix look like a very good predictor...as in it shows promise, a lot of ticket types got 1s or 0s... But the model ignores it ? (Decision Tree importance) \n",
    "\n",
    "A: frequency, every category should have approximately equal no of values to be considered...so if you specify a category with just 2 ppl in it .. it is considered as overfitting.. algorithm ignores such categories? <- Understand how decision tree algorithm works\n",
    "\n",
    "<- check this answer..Self proclaimed asnwer"
   ]
  },
  {
   "cell_type": "markdown",
   "metadata": {},
   "source": [
    "# Titanic Predictor"
   ]
  },
  {
   "cell_type": "markdown",
   "metadata": {},
   "source": [
    "##### A Kaggle Data Set"
   ]
  },
  {
   "cell_type": "code",
   "execution_count": null,
   "metadata": {},
   "outputs": [],
   "source": [
    "import pandas as pd\n",
    "import numpy as np\n",
    "\n",
    "import matplotlib as mpl\n",
    "import matplotlib.pyplot as plt\n",
    "import seaborn as sns\n",
    "\n",
    "from sklearn.preprocessing import OneHotEncoder, LabelEncoder"
   ]
  },
  {
   "cell_type": "code",
   "execution_count": null,
   "metadata": {},
   "outputs": [],
   "source": [
    "test = pd.read_csv(\"Titanic Kaggle Data/test.csv\")\n",
    "train = pd.read_csv(\"Titanic Kaggle Data/train.csv\")\n",
    "sample_submission = pd.read_csv(\"Titanic Kaggle Data/gender_submission.csv\")"
   ]
  },
  {
   "cell_type": "code",
   "execution_count": null,
   "metadata": {},
   "outputs": [],
   "source": [
    "test.head()"
   ]
  },
  {
   "cell_type": "code",
   "execution_count": null,
   "metadata": {},
   "outputs": [],
   "source": [
    "train.head()"
   ]
  },
  {
   "cell_type": "code",
   "execution_count": null,
   "metadata": {},
   "outputs": [],
   "source": [
    "sample_submission.head()"
   ]
  },
  {
   "cell_type": "markdown",
   "metadata": {},
   "source": [
    "#### NOTE: \n",
    "\n",
    "Now, I will tend to read on Titanic and understand the data - \n",
    "\n",
    "1. https://en.wikipedia.org/wiki/RMS_Titanic\n",
    "1. <a href='https://www.ultimatetitanic.com/the-voyage'><i>The route</i></a>\n",
    "\n",
    "Something about the ticket makes me feel that there could feature engineering here... \n",
    "\n"
   ]
  },
  {
   "cell_type": "code",
   "execution_count": null,
   "metadata": {},
   "outputs": [],
   "source": [
    "train.dtypes"
   ]
  },
  {
   "cell_type": "code",
   "execution_count": null,
   "metadata": {},
   "outputs": [],
   "source": [
    "train.head()"
   ]
  },
  {
   "cell_type": "markdown",
   "metadata": {},
   "source": [
    "### Handling nan data "
   ]
  },
  {
   "cell_type": "code",
   "execution_count": null,
   "metadata": {},
   "outputs": [],
   "source": [
    "for i in train.columns:\n",
    "    print(train[i].isnull().value_counts())"
   ]
  },
  {
   "cell_type": "markdown",
   "metadata": {},
   "source": [
    "__I need to deal with age and embarked__"
   ]
  },
  {
   "cell_type": "code",
   "execution_count": null,
   "metadata": {},
   "outputs": [],
   "source": [
    "#Handling Age variable\n",
    "train['Age']=train['Age'].fillna(round(train[(train['Age'].notnull())]['Age'].mean()))"
   ]
  },
  {
   "cell_type": "code",
   "execution_count": null,
   "metadata": {},
   "outputs": [],
   "source": [
    "#Handling Embarking Null\n",
    "train['Embarked']=train['Embarked'].fillna(\"Unknown\")\n",
    "test['Embarked']=train['Embarked'].fillna(\"Unknown\")"
   ]
  },
  {
   "cell_type": "code",
   "execution_count": null,
   "metadata": {},
   "outputs": [],
   "source": [
    "#Chaning Cabin Data\n",
    "train['Cabin'] = train['Cabin'].notnull().astype('int64')"
   ]
  },
  {
   "cell_type": "code",
   "execution_count": null,
   "metadata": {},
   "outputs": [],
   "source": [
    "train_clean = train.copy()"
   ]
  },
  {
   "cell_type": "markdown",
   "metadata": {},
   "source": [
    "### Visualization"
   ]
  },
  {
   "cell_type": "code",
   "execution_count": null,
   "metadata": {},
   "outputs": [],
   "source": [
    "train_clean"
   ]
  },
  {
   "cell_type": "code",
   "execution_count": null,
   "metadata": {},
   "outputs": [],
   "source": [
    "for i in ['Pclass','Sex','Cabin','SibSp','Parch','Embarked']:\n",
    "    plot_data = pd.pivot_table(data=train_clean, index= i,values='Survived')*100\n",
    "    plot_data = plot_data.round()\n",
    "\n",
    "    plt.figure(figsize=(15,8))\n",
    "    sns.barplot(data = plot_data,x=plot_data.index,y='Survived')\n",
    "\n",
    "    plt.xlabel(i)\n",
    "    plt.ylabel('Percentage(%)')\n",
    "    plt.title('% of Survivors based on {}'.format(i))\n",
    "    plt.show()\n",
    "    print(\"\\n\\n\\n\")"
   ]
  },
  {
   "cell_type": "markdown",
   "metadata": {},
   "source": [
    "### 8. Ticket Prefix "
   ]
  },
  {
   "cell_type": "code",
   "execution_count": null,
   "metadata": {},
   "outputs": [],
   "source": [
    "train_clean['Ticket_prefix'] = train_clean['Ticket'].apply(lambda x: 'None' if(x.split(' ')[0].isdigit()) else x.split(' ')[0])"
   ]
  },
  {
   "cell_type": "code",
   "execution_count": null,
   "metadata": {},
   "outputs": [],
   "source": [
    "train_clean.head(3)"
   ]
  },
  {
   "cell_type": "code",
   "execution_count": null,
   "metadata": {},
   "outputs": [],
   "source": [
    "tic_num=[]\n",
    "for x in train_clean['Ticket']:\n",
    "    y=x.split(' ')\n",
    "    if y[0]=='LINE':\n",
    "        tic_num.append(0)\n",
    "    elif y[0].isdigit():\n",
    "        tic_num.append(y[0])\n",
    "    else:\n",
    "        tic_num.append(y[-1])"
   ]
  },
  {
   "cell_type": "code",
   "execution_count": null,
   "metadata": {},
   "outputs": [],
   "source": [
    "train_clean['Ticket_num']=tic_num"
   ]
  },
  {
   "cell_type": "code",
   "execution_count": null,
   "metadata": {},
   "outputs": [],
   "source": [
    "train_clean.head(3)"
   ]
  },
  {
   "cell_type": "code",
   "execution_count": null,
   "metadata": {},
   "outputs": [],
   "source": [
    "fig, axs = plt.subplots(11,4,figsize=(10,25))\n",
    "fig.subplots_adjust(hspace = .5, wspace=.5)\n",
    "axs = axs.ravel()\n",
    "counter=0\n",
    "\n",
    "for i in train_clean['Ticket_prefix'].unique():\n",
    "    plot_data = train_clean[train_clean['Ticket_prefix']==i][['Ticket_prefix','Survived']]\n",
    "    axs[counter].set_title('ticet prefix {}'.format(i))\n",
    "    axs[counter].hist(x=plot_data['Survived'])\n",
    "    counter+=1"
   ]
  },
  {
   "cell_type": "markdown",
   "metadata": {},
   "source": [
    "We see amazing result from ticket prefix,  \n",
    "* where some prefix result to 100% survivalibility\n",
    "* some result to 0%\n",
    "* some result to moderate 50%\n",
    "* But we get distinctive results which can be used to predict better future :P\n",
    "\n",
    "Let us furhter visualize"
   ]
  },
  {
   "cell_type": "code",
   "execution_count": null,
   "metadata": {},
   "outputs": [],
   "source": [
    "plot_data = pd.pivot_table(data=train_clean, index='Ticket_prefix',values='Survived')*100\n",
    "plot_data = plot_data.round()\n",
    "\n",
    "plt.figure(figsize=(15,8))\n",
    "sns.barplot(data = plot_data,x=plot_data.index,y='Survived')\n",
    "\n",
    "plt.xlabel('Ticket Prefix')\n",
    "plt.ylabel('Percentage(%)')\n",
    "plt.title('% of Survivors based Ticket Type')\n",
    "plt.xticks(rotation=90)\n",
    "plt.show()"
   ]
  },
  {
   "cell_type": "markdown",
   "metadata": {},
   "source": [
    "### 9. Age Binning"
   ]
  },
  {
   "cell_type": "code",
   "execution_count": null,
   "metadata": {},
   "outputs": [],
   "source": [
    "sns.distplot(train_clean['Age'], kde=False)\n",
    "plt.show()"
   ]
  },
  {
   "cell_type": "code",
   "execution_count": null,
   "metadata": {},
   "outputs": [],
   "source": [
    "bins=[i*9 for i in range(0,10)]\n",
    "labels = ['1-9','10-18','19-27','28-36','37-45','46-54','55-63','64-72','73-81']\n",
    "train_clean['Age_binned'] =pd.cut(train_clean['Age'],bins,labels=labels)\n",
    "train_clean.head(3)"
   ]
  },
  {
   "cell_type": "code",
   "execution_count": null,
   "metadata": {},
   "outputs": [],
   "source": [
    "fig, axs = plt.subplots(2,5,figsize=(20,8))\n",
    "fig.subplots_adjust(hspace = .5, wspace=.5)\n",
    "axs = axs.ravel()\n",
    "counter=0\n",
    "\n",
    "for i in train_clean['Age_binned'].unique():\n",
    "    plot_data = train_clean[train_clean['Age_binned']==i][['Age_binned','Survived']]\n",
    "    axs[counter].set_title('Between: {}'.format(i))\n",
    "    axs[counter].hist(x=plot_data['Survived'])\n",
    "    counter+=1"
   ]
  },
  {
   "cell_type": "code",
   "execution_count": null,
   "metadata": {},
   "outputs": [],
   "source": [
    "plot_data = pd.pivot_table(data=train_clean, index='Age_binned',values='Survived')*100\n",
    "plot_data = plot_data.round()\n",
    "sns.barplot(data = plot_data,x=plot_data.index,y='Survived')\n",
    "plt.xlabel('Age Bracket')\n",
    "plt.ylabel('Percentage(%)')\n",
    "plt.title('% of Survivors based on Age')\n",
    "plt.xticks(rotation=45)"
   ]
  },
  {
   "cell_type": "markdown",
   "metadata": {},
   "source": [
    "Age has lesser quatifiable impact in terms of regression....other than people above 60 did not survive\n",
    "\n",
    "A decision tree type model will benefit more from this "
   ]
  },
  {
   "cell_type": "markdown",
   "metadata": {},
   "source": [
    "### 10. Fare Binning"
   ]
  },
  {
   "cell_type": "code",
   "execution_count": null,
   "metadata": {},
   "outputs": [],
   "source": [
    "sns.distplot(train_clean['Fare'], kde=False)\n",
    "plt.show()"
   ]
  },
  {
   "cell_type": "code",
   "execution_count": null,
   "metadata": {},
   "outputs": [],
   "source": [
    "bins=[i*10 for i in range(0,11)]\n",
    "bins.append(520)\n",
    "labels = ['1-10','11-20','21-30','31-40','41-50','51-60','61-70','71-80','81-90','91-100','100+']\n",
    "train_clean['Fare_binned'] =pd.cut(train_clean['Fare'],bins, labels=labels)\n",
    "train_clean.head(3)"
   ]
  },
  {
   "cell_type": "code",
   "execution_count": null,
   "metadata": {},
   "outputs": [],
   "source": [
    "fig, axs = plt.subplots(2,6,figsize=(25,8))\n",
    "fig.subplots_adjust(hspace = .5, wspace=.5)\n",
    "axs = axs.ravel()\n",
    "counter=0\n",
    "\n",
    "for i in train_clean['Fare_binned'].unique():\n",
    "    plot_data = train_clean[train_clean['Fare_binned']==i][['Fare_binned','Survived']]\n",
    "    axs[counter].set_title('Between: {}'.format(i))\n",
    "    axs[counter].hist(x=plot_data['Survived'])\n",
    "    counter+=1"
   ]
  },
  {
   "cell_type": "markdown",
   "metadata": {},
   "source": [
    "##### Notice\n",
    "* __Ratio of dead:survived for Fare 0-70 > 1 (Anomaly exsists at Fare Bracket 50-60)__\n",
    "* __Ratio of dead:survived for Fare 70+ < 1__"
   ]
  },
  {
   "cell_type": "code",
   "execution_count": null,
   "metadata": {},
   "outputs": [],
   "source": [
    "plot_data = pd.pivot_table(data=train_clean, index='Fare_binned',values='Survived')*100\n",
    "plot_data = plot_data.round()\n",
    "sns.barplot(data = plot_data,x=plot_data.index,y='Survived')\n",
    "plt.xlabel('Fare Bracket')\n",
    "plt.ylabel('Percentage(%)')\n",
    "plt.title('% of Survivors based on Fare')\n",
    "plt.xticks(rotation=45)"
   ]
  },
  {
   "cell_type": "markdown",
   "metadata": {},
   "source": [
    "### Comparing Fare, Ticket_prefix and Survivability"
   ]
  },
  {
   "cell_type": "code",
   "execution_count": null,
   "metadata": {},
   "outputs": [],
   "source": [
    "pd.pivot_table(data=train_clean, index='Ticket_prefix', values=['Fare','Survived'], aggfunc={'Survived':['mean'],'Fare':['count','mean','median','min','max']}).sort_values(('Fare','mean'))"
   ]
  },
  {
   "cell_type": "markdown",
   "metadata": {},
   "source": [
    "#### Repeat for test set"
   ]
  },
  {
   "cell_type": "code",
   "execution_count": null,
   "metadata": {},
   "outputs": [],
   "source": [
    "test['Ticket_prefix'] = test['Ticket'].apply(lambda x: 'None' if(x.split(' ')[0].isdigit()) else x.split(' ')[0])"
   ]
  },
  {
   "cell_type": "code",
   "execution_count": null,
   "metadata": {},
   "outputs": [],
   "source": [
    "tic_num=[]\n",
    "for x in test['Ticket']:\n",
    "    y=x.split(' ')\n",
    "    if y[0]=='LINE':\n",
    "        tic_num.append(0)\n",
    "    elif y[0].isdigit():\n",
    "        tic_num.append(y[0])\n",
    "    else:\n",
    "        tic_num.append(y[-1])\n",
    "test['Ticket_num']=tic_num"
   ]
  },
  {
   "cell_type": "code",
   "execution_count": null,
   "metadata": {},
   "outputs": [],
   "source": [
    "bins=[i*9 for i in range(0,10)]\n",
    "labels = ['1-9','10-18','19-27','28-36','37-45','46-54','55-63','64-72','73-81']\n",
    "test['Age_binned'] =pd.cut(test['Age'],bins,labels=labels)"
   ]
  },
  {
   "cell_type": "code",
   "execution_count": null,
   "metadata": {},
   "outputs": [],
   "source": [
    "bins=[i*10 for i in range(0,11)]\n",
    "bins.append(520)\n",
    "labels = ['1-10','11-20','21-30','31-40','41-50','51-60','61-70','71-80','81-90','91-100','100+']\n",
    "test['Fare_binned'] =pd.cut(test['Fare'],bins,labels=labels)"
   ]
  },
  {
   "cell_type": "code",
   "execution_count": null,
   "metadata": {},
   "outputs": [],
   "source": [
    "test['Cabin'] = test['Cabin'].notnull().astype('int64')"
   ]
  },
  {
   "cell_type": "code",
   "execution_count": null,
   "metadata": {},
   "outputs": [],
   "source": [
    "train_clean.head(3)"
   ]
  },
  {
   "cell_type": "code",
   "execution_count": null,
   "metadata": {},
   "outputs": [],
   "source": [
    "test.head(3)"
   ]
  },
  {
   "cell_type": "code",
   "execution_count": null,
   "metadata": {},
   "outputs": [],
   "source": [
    "train_clean.to_csv(\"train_clean.csv\")\n",
    "test.to_csv(\"test_clean.csv\")"
   ]
  }
 ],
 "metadata": {
  "kernelspec": {
   "display_name": "Python 3",
   "language": "python",
   "name": "python3"
  },
  "language_info": {
   "codemirror_mode": {
    "name": "ipython",
    "version": 3
   },
   "file_extension": ".py",
   "mimetype": "text/x-python",
   "name": "python",
   "nbconvert_exporter": "python",
   "pygments_lexer": "ipython3",
   "version": "3.7.6"
  }
 },
 "nbformat": 4,
 "nbformat_minor": 4
}
