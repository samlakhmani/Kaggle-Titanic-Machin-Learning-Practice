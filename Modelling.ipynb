{
 "cells": [
  {
   "cell_type": "markdown",
   "metadata": {},
   "source": [
    "##### Question Section\n",
    "Questions to study ->\n",
    "Can I do half the data under one model and the remaining half of the data under another model and then ensamble(check spelling) the data?\n",
    "\n",
    "For example, Age will be a U-curve, so using polynomial modelling for it is accurate, \n",
    "where as, we have seen fare to be linear, so using MLR for linear \n",
    "and using Random forest for Categorical. This would yield best results?? What kind of limitations does this idea have ?"
   ]
  },
  {
   "cell_type": "markdown",
   "metadata": {},
   "source": [
    "### Steps :\n",
    "\n",
    "1. Select relevent columns\n",
    "1. Make Dummy Variables (OHE)\n",
    "1. train validation split (since we already have test set)\n",
    "1. Modelling\n",
    "1. Tune model using GridsearchCV\n",
    "1. Test ensambles\n",
    "\n",
    "Select from the following Models:\n",
    "1. MLR\n",
    "1. Lasso Regression\n",
    "1. Polynomial Regression ?\n",
    "1. Random Forest \n",
    "1. Support Vector Regression\n",
    "1. Gradient boosted tree\n",
    "\n"
   ]
  },
  {
   "cell_type": "code",
   "execution_count": 1,
   "metadata": {},
   "outputs": [],
   "source": [
    "import pandas as pd\n",
    "import numpy as np"
   ]
  },
  {
   "cell_type": "markdown",
   "metadata": {},
   "source": [
    "### Importing Clean Data"
   ]
  },
  {
   "cell_type": "code",
   "execution_count": 8,
   "metadata": {},
   "outputs": [],
   "source": [
    "train = pd.read_csv(\"train_clean.csv\")\n",
    "test =  pd.read_csv(\"test_clean.csv\")"
   ]
  },
  {
   "cell_type": "code",
   "execution_count": 9,
   "metadata": {},
   "outputs": [],
   "source": [
    "train.drop(['Unnamed: 0','Name','Ticket','Ticket_num','Age','Fare'],inplace=True,axis=1)\n",
    "test.drop(['Unnamed: 0','Name','Ticket','Ticket_num','Age','Fare'],inplace=True,axis=1)"
   ]
  },
  {
   "cell_type": "code",
   "execution_count": 10,
   "metadata": {},
   "outputs": [
    {
     "data": {
      "text/plain": [
       "Index(['PassengerId', 'Survived', 'Pclass', 'Sex', 'SibSp', 'Parch', 'Cabin',\n",
       "       'Embarked', 'Ticket_prefix', 'Age_binned', 'Fare_binned'],\n",
       "      dtype='object')"
      ]
     },
     "execution_count": 10,
     "metadata": {},
     "output_type": "execute_result"
    }
   ],
   "source": [
    "train.columns"
   ]
  },
  {
   "cell_type": "code",
   "execution_count": 11,
   "metadata": {},
   "outputs": [],
   "source": [
    "train_y = train['Survived']\n",
    "train = train[['PassengerId', 'Pclass', 'Sex', 'SibSp', 'Parch', 'Cabin', 'Embarked', 'Ticket_prefix', 'Age_binned', 'Fare_binned']] "
   ]
  },
  {
   "cell_type": "code",
   "execution_count": 14,
   "metadata": {},
   "outputs": [
    {
     "data": {
      "text/html": [
       "<div>\n",
       "<style scoped>\n",
       "    .dataframe tbody tr th:only-of-type {\n",
       "        vertical-align: middle;\n",
       "    }\n",
       "\n",
       "    .dataframe tbody tr th {\n",
       "        vertical-align: top;\n",
       "    }\n",
       "\n",
       "    .dataframe thead th {\n",
       "        text-align: right;\n",
       "    }\n",
       "</style>\n",
       "<table border=\"1\" class=\"dataframe\">\n",
       "  <thead>\n",
       "    <tr style=\"text-align: right;\">\n",
       "      <th></th>\n",
       "      <th>PassengerId</th>\n",
       "      <th>Pclass</th>\n",
       "      <th>Sex</th>\n",
       "      <th>SibSp</th>\n",
       "      <th>Parch</th>\n",
       "      <th>Cabin</th>\n",
       "      <th>Embarked</th>\n",
       "      <th>Ticket_prefix</th>\n",
       "      <th>Age_binned</th>\n",
       "      <th>Fare_binned</th>\n",
       "    </tr>\n",
       "  </thead>\n",
       "  <tbody>\n",
       "    <tr>\n",
       "      <th>0</th>\n",
       "      <td>1</td>\n",
       "      <td>3</td>\n",
       "      <td>male</td>\n",
       "      <td>1</td>\n",
       "      <td>0</td>\n",
       "      <td>0</td>\n",
       "      <td>S</td>\n",
       "      <td>A/5</td>\n",
       "      <td>(20, 25]</td>\n",
       "      <td>(0.0, 10.0]</td>\n",
       "    </tr>\n",
       "    <tr>\n",
       "      <th>1</th>\n",
       "      <td>2</td>\n",
       "      <td>1</td>\n",
       "      <td>female</td>\n",
       "      <td>1</td>\n",
       "      <td>0</td>\n",
       "      <td>1</td>\n",
       "      <td>C</td>\n",
       "      <td>PC</td>\n",
       "      <td>(35, 40]</td>\n",
       "      <td>(70.0, 80.0]</td>\n",
       "    </tr>\n",
       "    <tr>\n",
       "      <th>2</th>\n",
       "      <td>3</td>\n",
       "      <td>3</td>\n",
       "      <td>female</td>\n",
       "      <td>0</td>\n",
       "      <td>0</td>\n",
       "      <td>0</td>\n",
       "      <td>S</td>\n",
       "      <td>STON/O2.</td>\n",
       "      <td>(25, 30]</td>\n",
       "      <td>(0.0, 10.0]</td>\n",
       "    </tr>\n",
       "    <tr>\n",
       "      <th>3</th>\n",
       "      <td>4</td>\n",
       "      <td>1</td>\n",
       "      <td>female</td>\n",
       "      <td>1</td>\n",
       "      <td>0</td>\n",
       "      <td>1</td>\n",
       "      <td>S</td>\n",
       "      <td>None</td>\n",
       "      <td>(30, 35]</td>\n",
       "      <td>(50.0, 60.0]</td>\n",
       "    </tr>\n",
       "    <tr>\n",
       "      <th>4</th>\n",
       "      <td>5</td>\n",
       "      <td>3</td>\n",
       "      <td>male</td>\n",
       "      <td>0</td>\n",
       "      <td>0</td>\n",
       "      <td>0</td>\n",
       "      <td>S</td>\n",
       "      <td>None</td>\n",
       "      <td>(30, 35]</td>\n",
       "      <td>(0.0, 10.0]</td>\n",
       "    </tr>\n",
       "  </tbody>\n",
       "</table>\n",
       "</div>"
      ],
      "text/plain": [
       "   PassengerId  Pclass     Sex  SibSp  Parch  Cabin Embarked Ticket_prefix  \\\n",
       "0            1       3    male      1      0      0        S           A/5   \n",
       "1            2       1  female      1      0      1        C            PC   \n",
       "2            3       3  female      0      0      0        S      STON/O2.   \n",
       "3            4       1  female      1      0      1        S          None   \n",
       "4            5       3    male      0      0      0        S          None   \n",
       "\n",
       "  Age_binned   Fare_binned  \n",
       "0   (20, 25]   (0.0, 10.0]  \n",
       "1   (35, 40]  (70.0, 80.0]  \n",
       "2   (25, 30]   (0.0, 10.0]  \n",
       "3   (30, 35]  (50.0, 60.0]  \n",
       "4   (30, 35]   (0.0, 10.0]  "
      ]
     },
     "execution_count": 14,
     "metadata": {},
     "output_type": "execute_result"
    }
   ],
   "source": [
    "train.head()"
   ]
  },
  {
   "cell_type": "code",
   "execution_count": 15,
   "metadata": {},
   "outputs": [
    {
     "data": {
      "text/html": [
       "<div>\n",
       "<style scoped>\n",
       "    .dataframe tbody tr th:only-of-type {\n",
       "        vertical-align: middle;\n",
       "    }\n",
       "\n",
       "    .dataframe tbody tr th {\n",
       "        vertical-align: top;\n",
       "    }\n",
       "\n",
       "    .dataframe thead th {\n",
       "        text-align: right;\n",
       "    }\n",
       "</style>\n",
       "<table border=\"1\" class=\"dataframe\">\n",
       "  <thead>\n",
       "    <tr style=\"text-align: right;\">\n",
       "      <th></th>\n",
       "      <th>PassengerId</th>\n",
       "      <th>Pclass</th>\n",
       "      <th>Sex</th>\n",
       "      <th>SibSp</th>\n",
       "      <th>Parch</th>\n",
       "      <th>Cabin</th>\n",
       "      <th>Embarked</th>\n",
       "      <th>Ticket_prefix</th>\n",
       "      <th>Age_binned</th>\n",
       "      <th>Fare_binned</th>\n",
       "    </tr>\n",
       "  </thead>\n",
       "  <tbody>\n",
       "    <tr>\n",
       "      <th>0</th>\n",
       "      <td>892</td>\n",
       "      <td>3</td>\n",
       "      <td>male</td>\n",
       "      <td>0</td>\n",
       "      <td>0</td>\n",
       "      <td>0</td>\n",
       "      <td>Q</td>\n",
       "      <td>None</td>\n",
       "      <td>(30.0, 35.0]</td>\n",
       "      <td>(0.0, 10.0]</td>\n",
       "    </tr>\n",
       "    <tr>\n",
       "      <th>1</th>\n",
       "      <td>893</td>\n",
       "      <td>3</td>\n",
       "      <td>female</td>\n",
       "      <td>1</td>\n",
       "      <td>0</td>\n",
       "      <td>0</td>\n",
       "      <td>S</td>\n",
       "      <td>None</td>\n",
       "      <td>(45.0, 50.0]</td>\n",
       "      <td>(0.0, 10.0]</td>\n",
       "    </tr>\n",
       "    <tr>\n",
       "      <th>2</th>\n",
       "      <td>894</td>\n",
       "      <td>2</td>\n",
       "      <td>male</td>\n",
       "      <td>0</td>\n",
       "      <td>0</td>\n",
       "      <td>0</td>\n",
       "      <td>Q</td>\n",
       "      <td>None</td>\n",
       "      <td>(60.0, 65.0]</td>\n",
       "      <td>(0.0, 10.0]</td>\n",
       "    </tr>\n",
       "    <tr>\n",
       "      <th>3</th>\n",
       "      <td>895</td>\n",
       "      <td>3</td>\n",
       "      <td>male</td>\n",
       "      <td>0</td>\n",
       "      <td>0</td>\n",
       "      <td>0</td>\n",
       "      <td>S</td>\n",
       "      <td>None</td>\n",
       "      <td>(25.0, 30.0]</td>\n",
       "      <td>(0.0, 10.0]</td>\n",
       "    </tr>\n",
       "    <tr>\n",
       "      <th>4</th>\n",
       "      <td>896</td>\n",
       "      <td>3</td>\n",
       "      <td>female</td>\n",
       "      <td>1</td>\n",
       "      <td>1</td>\n",
       "      <td>0</td>\n",
       "      <td>S</td>\n",
       "      <td>None</td>\n",
       "      <td>(20.0, 25.0]</td>\n",
       "      <td>(10.0, 20.0]</td>\n",
       "    </tr>\n",
       "  </tbody>\n",
       "</table>\n",
       "</div>"
      ],
      "text/plain": [
       "   PassengerId  Pclass     Sex  SibSp  Parch  Cabin Embarked Ticket_prefix  \\\n",
       "0          892       3    male      0      0      0        Q          None   \n",
       "1          893       3  female      1      0      0        S          None   \n",
       "2          894       2    male      0      0      0        Q          None   \n",
       "3          895       3    male      0      0      0        S          None   \n",
       "4          896       3  female      1      1      0        S          None   \n",
       "\n",
       "     Age_binned   Fare_binned  \n",
       "0  (30.0, 35.0]   (0.0, 10.0]  \n",
       "1  (45.0, 50.0]   (0.0, 10.0]  \n",
       "2  (60.0, 65.0]   (0.0, 10.0]  \n",
       "3  (25.0, 30.0]   (0.0, 10.0]  \n",
       "4  (20.0, 25.0]  (10.0, 20.0]  "
      ]
     },
     "execution_count": 15,
     "metadata": {},
     "output_type": "execute_result"
    }
   ],
   "source": [
    "test.head()"
   ]
  },
  {
   "cell_type": "markdown",
   "metadata": {},
   "source": [
    "### One hot Encoding"
   ]
  },
  {
   "cell_type": "markdown",
   "metadata": {},
   "source": [
    "### Plan :\n",
    "See if I leave p class as labels of 1,2,3 the prediction will get be weight by the number that is meant for class representation.\n",
    "[AAh! This is called natural ordered relationships. Explained in the medium article below] \n",
    "\n",
    "Things I wanna do \n",
    "1. One Hot: Passenger Class \n",
    "1. One Hot: Sex\n",
    "1. One Hot: Spouse and sibling \n",
    "1. One Hot: Parent and Child\n",
    "1. One Hot: Embarkment\n",
    "1. Cabin detail (Present/Absent)\n",
    "1. Embarked\n",
    "1. Ticket classification based on pre text\n",
    "1. Fare Binning ?\n",
    "1. Age Binning ? (6 width)\n",
    "\n",
    "Thing I need to read on is label encoding vs one hot encoding impact on category prediction ML model.\n",
    "<a href='https://medium.com/@michaeldelsole/what-is-one-hot-encoding-and-how-to-do-it-f0ae272f1179'>A good Medium Article on this.</a>\n"
   ]
  },
  {
   "cell_type": "markdown",
   "metadata": {},
   "source": [
    "### Performing 1-7:"
   ]
  },
  {
   "cell_type": "code",
   "execution_count": null,
   "metadata": {},
   "outputs": [],
   "source": [
    "Pclass_ohe = pd.get_dummies(train['Pclass'])\n",
    "Sex_ohe = pd.get_dummies(train['Sex'])\n",
    "SibSp_ohe = pd.get_dummies(train['SibSp'])\n",
    "Parch_ohe = pd.get_dummies(train['Parch'])\n",
    "Embarked_ohe = pd.get_dummies(train['Embarked'])\n",
    "train_ohe =pd.concat([train[['PassengerId', 'Survived']],Pclass_ohe,train[['Name']],Sex_ohe, train[['Age',]],SibSp_ohe,Parch_ohe, train[['Ticket', 'Fare','Cabin']],Embarked_ohe],axis=1)\n",
    "train_ohe\n",
    "train_ohe.columns=['PassengerId','Survived','Pclass_1','Pclass_2','Pclass_3','Name','female','male','Age','SibSp_0','SibSp_1','SibSp_2','SibSp_3','SibSp_4','SibSp_5','SibSp_8','Parch_0','Parch_1','Parch_2','Parch_3','Parch_4','Parch_5','Parch_6','Ticket','Fare','Cabin','Boarded_C','Boarded_Q','Boarded_S','Boarded_unknown']"
   ]
  },
  {
   "cell_type": "code",
   "execution_count": null,
   "metadata": {},
   "outputs": [],
   "source": [
    "Age_ohe = pd.get_dummies(train['Age_binned'])"
   ]
  },
  {
   "cell_type": "code",
   "execution_count": null,
   "metadata": {},
   "outputs": [],
   "source": []
  },
  {
   "cell_type": "code",
   "execution_count": null,
   "metadata": {},
   "outputs": [],
   "source": []
  }
 ],
 "metadata": {
  "kernelspec": {
   "display_name": "Python 3",
   "language": "python",
   "name": "python3"
  },
  "language_info": {
   "codemirror_mode": {
    "name": "ipython",
    "version": 3
   },
   "file_extension": ".py",
   "mimetype": "text/x-python",
   "name": "python",
   "nbconvert_exporter": "python",
   "pygments_lexer": "ipython3",
   "version": "3.7.6"
  }
 },
 "nbformat": 4,
 "nbformat_minor": 4
}
